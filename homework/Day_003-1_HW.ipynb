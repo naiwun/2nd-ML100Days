{
 "cells": [
  {
   "cell_type": "markdown",
   "metadata": {},
   "source": [
    "## 練習時間\n",
    "在小量的資料上，我們用眼睛就可以看得出來程式碼是否有跑出我們理想中的結果\n",
    "\n",
    "請嘗試想像一個你需要的資料結構 (裡面的值可以是隨機的)，然後用上述的方法把它變成 pandas DataFrame\n",
    "\n",
    "#### Ex: 想像一個 dataframe 有兩個欄位，一個是國家，一個是人口，求人口數最多的國家\n",
    "\n",
    "### Hints: [隨機產生數值](https://blog.csdn.net/christianashannon/article/details/78867204)"
   ]
  },
  {
   "cell_type": "code",
   "execution_count": 2,
   "metadata": {},
   "outputs": [],
   "source": [
    "import pandas as pd\n",
    "import numpy as np"
   ]
  },
  {
   "cell_type": "code",
   "execution_count": 13,
   "metadata": {},
   "outputs": [
    {
     "name": "stdout",
     "output_type": "stream",
     "text": [
      "               國家      人口\n",
      "0          Taiwan   61641\n",
      "1           Japan  474992\n",
      "2        Thailand  327615\n",
      "3          Turkey  656599\n",
      "4  United Kingdom  761365\n",
      "5   United States  818831\n",
      "6         Vietnam  253921\n",
      "7       Swaziland   83951\n",
      "8           Spain  604526\n",
      "9           Korea  975694\n"
     ]
    }
   ],
   "source": [
    "# 方法一\n",
    "data = {'國家': ['Taiwan', 'Japan', 'Thailand', 'Turkey', 'United Kingdom', 'United States', 'Vietnam', 'Swaziland','Spain','Korea'],\n",
    "        '人口': np.random.randint(1000000,size=10)}\n",
    "df_data = pd.DataFrame(data)\n",
    "print(df_data)"
   ]
  },
  {
   "cell_type": "code",
   "execution_count": 15,
   "metadata": {},
   "outputs": [
    {
     "name": "stdout",
     "output_type": "stream",
     "text": [
      "             city  people\n",
      "0          Taiwan  294052\n",
      "1           Japan  836483\n",
      "2        Thailand  115087\n",
      "3          Turkey  838388\n",
      "4  United Kingdom  138761\n",
      "5   United States  297365\n",
      "6         Vietnam  397431\n",
      "7       Swaziland  556657\n",
      "8           Spain  824615\n",
      "9           Korea  886695\n"
     ]
    }
   ],
   "source": [
    "# 方法二\n",
    "import random\n",
    "\n",
    "cities = ['Taiwan', 'Japan', 'Thailand', 'Turkey', 'United Kingdom', 'United States', 'Vietnam', 'Swaziland','Spain','Korea']\n",
    "people=[]\n",
    "for i in range(0,10):\n",
    "    people.append(random.randint(100000,1000000))\n",
    "\n",
    "list_labels = ['city', 'people']\n",
    "list_cols = [cities, people]\n",
    "\n",
    "data = list(zip(list_labels, list_cols))\n",
    "\n",
    "\n",
    "df_data = pd.DataFrame(dict(data))\n",
    "print(df_data)\n",
    "\n"
   ]
  },
  {
   "cell_type": "code",
   "execution_count": null,
   "metadata": {},
   "outputs": [],
   "source": []
  }
 ],
 "metadata": {
  "kernelspec": {
   "display_name": "Python 3",
   "language": "python",
   "name": "python3"
  },
  "language_info": {
   "codemirror_mode": {
    "name": "ipython",
    "version": 3
   },
   "file_extension": ".py",
   "mimetype": "text/x-python",
   "name": "python",
   "nbconvert_exporter": "python",
   "pygments_lexer": "ipython3",
   "version": "3.6.6"
  }
 },
 "nbformat": 4,
 "nbformat_minor": 2
}
